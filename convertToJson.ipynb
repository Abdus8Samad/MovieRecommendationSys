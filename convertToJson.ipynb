{
 "cells": [
  {
   "cell_type": "code",
   "execution_count": 1,
   "metadata": {},
   "outputs": [
    {
     "name": "stdout",
     "output_type": "stream",
     "text": [
      "dict saved as dict.json\n"
     ]
    }
   ],
   "source": [
    "import json\n",
    "\n",
    "def save_object_as_json(obj):\n",
    "    # Get the name of the object\n",
    "    obj_name = type(obj).__name__\n",
    "    # Generate the filename\n",
    "    filename = f\"{obj_name}.json\"\n",
    "    \n",
    "    # Convert the object to JSON\n",
    "    json_data = json.dumps(obj, indent=4)\n",
    "    \n",
    "    # Write JSON data to the file\n",
    "    with open(filename, 'w') as file:\n",
    "        file.write(json_data)\n",
    "    \n",
    "    print(f\"{obj_name} saved as {filename}\")\n",
    "\n",
    "# Example usage\n",
    "data = {\n",
    "    'name': 'John Doe',\n",
    "    'age': 30,\n",
    "    'city': 'New York'\n",
    "}\n",
    "\n",
    "save_object_as_json(data)"
   ]
  },
  {
   "cell_type": "code",
   "execution_count": 2,
   "metadata": {},
   "outputs": [
    {
     "name": "stdout",
     "output_type": "stream",
     "text": [
      "movie_indexes saved as movie_indexes.json\n"
     ]
    }
   ],
   "source": [
    "import pandas as pd\n",
    "import json\n",
    "\n",
    "def save_series_as_json(series):\n",
    "    # Get the name of the series\n",
    "    series_name = series.name if series.name else 'series'\n",
    "    # Generate the filename\n",
    "    filename = f\"{series_name}.json\"\n",
    "\n",
    "    # Convert the series to a dictionary with movie names as keys and indexes as values\n",
    "    series_dict = {movie: index for index, movie in enumerate(series.index)}\n",
    "\n",
    "    # Write JSON data to the file\n",
    "    with open(filename, 'w') as file:\n",
    "        json.dump(series_dict, file, indent=4)\n",
    "\n",
    "    print(f\"{series_name} saved as {filename}\")\n",
    "\n",
    "\n",
    "# Example usage\n",
    "movies = ['The Shawshank Redemption', 'The Godfather', 'Pulp Fiction', 'Fight Club']\n",
    "indexes = list(range(len(movies)))\n",
    "\n",
    "series = pd.Series(indexes, index=movies, name='movie_indexes')\n",
    "\n",
    "save_series_as_json(series)"
   ]
  },
  {
   "cell_type": "code",
   "execution_count": 3,
   "metadata": {},
   "outputs": [],
   "source": [
    "import numpy as np\n",
    "import json\n",
    "\n",
    "\n",
    "# Convert NumPy array to regular Python list\n",
    "arr_list = cosine_sim2.tolist()\n",
    "\n",
    "# Write the list to a JSON file\n",
    "filename = \"array_data.json\"\n",
    "with open(filename, 'w') as file:\n",
    "    json.dump(arr_list, file)\n",
    "\n",
    "print(f\"Array data saved as {filename}\")\n",
    "\n"
   ]
  },
  {
   "cell_type": "code",
   "execution_count": 4,
   "metadata": {},
   "outputs": [
    {
     "name": "stdout",
     "output_type": "stream",
     "text": [
      "Keys written to movies.json\n"
     ]
    }
   ],
   "source": [
    "import json\n",
    "\n",
    "# Load the JSON file\n",
    "with open('indices.json', 'r') as file:\n",
    "    data = json.load(file)\n",
    "\n",
    "# Extract the keys from the loaded JSON data\n",
    "keys = list(data.keys())\n",
    "\n",
    "# Write the keys to a new JSON file\n",
    "with open('movies.json', 'w') as file:\n",
    "    json.dump(keys, file)\n",
    "\n",
    "print(\"Keys written to movies.json\")\n"
   ]
  },
  {
   "cell_type": "code",
   "execution_count": 3,
   "metadata": {},
   "outputs": [
    {
     "name": "stdout",
     "output_type": "stream",
     "text": [
      "<enumerate object at 0x000001DB76D098A0>\n"
     ]
    }
   ],
   "source": [
    "arr = [[0, 1, 2, 3], [3, 4, 5], [6, 5, 3], [7, 5, 1]]\n",
    "scc = enumerate(arr[0])\n",
    "print(scc)"
   ]
  }
 ],
 "metadata": {
  "kernelspec": {
   "display_name": "Python 3",
   "language": "python",
   "name": "python3"
  },
  "language_info": {
   "codemirror_mode": {
    "name": "ipython",
    "version": 3
   },
   "file_extension": ".py",
   "mimetype": "text/x-python",
   "name": "python",
   "nbconvert_exporter": "python",
   "pygments_lexer": "ipython3",
   "version": "3.11.4"
  },
  "orig_nbformat": 4
 },
 "nbformat": 4,
 "nbformat_minor": 2
}
